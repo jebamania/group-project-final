{
 "cells": [
  {
   "cell_type": "code",
   "execution_count": 11,
   "metadata": {},
   "outputs": [
    {
     "name": "stdout",
     "output_type": "stream",
     "text": [
      "Collecting pygame\n",
      "  Downloading pygame-2.6.0-cp310-cp310-win_amd64.whl.metadata (13 kB)\n",
      "Downloading pygame-2.6.0-cp310-cp310-win_amd64.whl (10.7 MB)\n",
      "   ---------------------------------------- 0.0/10.7 MB ? eta -:--:--\n",
      "   ---------------------------------------- 0.0/10.7 MB 640.0 kB/s eta 0:00:17\n",
      "   ---------------------------------------- 0.1/10.7 MB 1.6 MB/s eta 0:00:07\n",
      "   - -------------------------------------- 0.4/10.7 MB 2.9 MB/s eta 0:00:04\n",
      "   -- ------------------------------------- 0.7/10.7 MB 4.0 MB/s eta 0:00:03\n",
      "   --- ------------------------------------ 1.0/10.7 MB 4.8 MB/s eta 0:00:03\n",
      "   ---- ----------------------------------- 1.3/10.7 MB 5.0 MB/s eta 0:00:02\n",
      "   ------ --------------------------------- 1.7/10.7 MB 5.8 MB/s eta 0:00:02\n",
      "   -------- ------------------------------- 2.2/10.7 MB 6.4 MB/s eta 0:00:02\n",
      "   ---------- ----------------------------- 2.8/10.7 MB 7.1 MB/s eta 0:00:02\n",
      "   ------------ --------------------------- 3.4/10.7 MB 7.4 MB/s eta 0:00:01\n",
      "   -------------- ------------------------- 4.0/10.7 MB 8.2 MB/s eta 0:00:01\n",
      "   ----------------- ---------------------- 4.7/10.7 MB 8.8 MB/s eta 0:00:01\n",
      "   -------------------- ------------------- 5.4/10.7 MB 9.3 MB/s eta 0:00:01\n",
      "   ----------------------- ---------------- 6.2/10.7 MB 9.7 MB/s eta 0:00:01\n",
      "   ------------------------- -------------- 6.9/10.7 MB 10.2 MB/s eta 0:00:01\n",
      "   ---------------------------- ----------- 7.6/10.7 MB 10.3 MB/s eta 0:00:01\n",
      "   ------------------------------- -------- 8.4/10.7 MB 10.7 MB/s eta 0:00:01\n",
      "   ----------------------------------- ---- 9.6/10.7 MB 11.4 MB/s eta 0:00:01\n",
      "   ---------------------------------------  10.6/10.7 MB 13.4 MB/s eta 0:00:01\n",
      "   ---------------------------------------  10.7/10.7 MB 13.4 MB/s eta 0:00:01\n",
      "   ---------------------------------------  10.7/10.7 MB 13.4 MB/s eta 0:00:01\n",
      "   ---------------------------------------- 10.7/10.7 MB 11.7 MB/s eta 0:00:00\n",
      "Installing collected packages: pygame\n",
      "Successfully installed pygame-2.6.0\n"
     ]
    }
   ],
   "source": [
    "# Requirements (run as needed):\n",
    "#!pip install gymnasium[atari]\n",
    "#!pip install gymnasium[accept-rom-license]\n",
    "#!pip install ale-py\n",
    "#!pip install pygame"
   ]
  },
  {
   "cell_type": "code",
   "execution_count": 2,
   "metadata": {},
   "outputs": [],
   "source": [
    "from ale_py import ALEInterface, roms\n",
    "\n",
    "ale = ALEInterface()\n",
    "ale.loadROM(roms.Tetris)\n",
    "ale.reset_game()\n",
    "\n",
    "reward = ale.act(0)  # noop\n",
    "screen_obs = ale.getScreenRGB()"
   ]
  },
  {
   "cell_type": "code",
   "execution_count": 3,
   "metadata": {},
   "outputs": [],
   "source": [
    "import gymnasium as gym\n",
    "import ale_py"
   ]
  },
  {
   "cell_type": "code",
   "execution_count": 6,
   "metadata": {},
   "outputs": [
    {
     "name": "stdout",
     "output_type": "stream",
     "text": [
      "Discrete(5)\n"
     ]
    }
   ],
   "source": [
    "gym.register_envs(ale_py)  # unnecessary but helpful for IDEs\n",
    "\n",
    "env = gym.make('ALE/Tetris-v5', render_mode=\"human\")  # remove render_mode in training\n",
    "obs, info = env.reset()\n",
    "# Manually set the FPS for rendering\n",
    "env.metadata['render_fps'] = 30\n",
    "episode_over = False\n",
    "\n",
    "# print the actions available in action_space\n",
    "print(env.action_space)\n"
   ]
  },
  {
   "cell_type": "code",
   "execution_count": null,
   "metadata": {},
   "outputs": [],
   "source": [
    "# This does not work in VSCode as an ipynb file\n",
    "\n",
    "while not episode_over:\n",
    "    # action = policy(obs)  # to implement - use `env.action_space.sample()` for a random policy\n",
    "    action = env.action_space.sample()  # Using a random policy\n",
    "    env.render()\n",
    "    obs, reward, terminated, truncated, info = env.step(action)\n",
    "\n",
    "    episode_over = terminated or truncated\n",
    "env.close()"
   ]
  }
 ],
 "metadata": {
  "kernelspec": {
   "display_name": "dev",
   "language": "python",
   "name": "python3"
  },
  "language_info": {
   "codemirror_mode": {
    "name": "ipython",
    "version": 3
   },
   "file_extension": ".py",
   "mimetype": "text/x-python",
   "name": "python",
   "nbconvert_exporter": "python",
   "pygments_lexer": "ipython3",
   "version": "3.10.13"
  }
 },
 "nbformat": 4,
 "nbformat_minor": 2
}
