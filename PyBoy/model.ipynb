{
 "cells": [
  {
   "cell_type": "code",
   "execution_count": 1,
   "metadata": {},
   "outputs": [
    {
     "name": "stdout",
     "output_type": "stream",
     "text": [
      "Imports successful\n"
     ]
    },
    {
     "name": "stderr",
     "output_type": "stream",
     "text": [
      "UserWarning: Using SDL2 binaries from pysdl2-dll 2.30.2\n"
     ]
    }
   ],
   "source": [
    "import imageio\n",
    "from stable_baselines3.common.callbacks import BaseCallback\n",
    "import matplotlib.pyplot as plt\n",
    "from stable_baselines3 import PPO\n",
    "from tetris_env import TetrisEnv, capture_frames\n",
    "from tetris_train import train_model, create_env, CustomCallback, model_learn, env_quck_test, play_and_record\n",
    "from IPython.display import display, Image\n",
    "import pandas as pd\n",
    "import matplotlib.pyplot as plt\n",
    "\n",
    "# Verify imports\n",
    "print(\"Imports successful\")\n"
   ]
  },
  {
   "cell_type": "code",
   "execution_count": 2,
   "metadata": {},
   "outputs": [
    {
     "name": "stdout",
     "output_type": "stream",
     "text": [
      "Initial observation shape: (18, 10)\n",
      "Step result: observation shape=(18, 10), reward=0.0, done=False\n"
     ]
    }
   ],
   "source": [
    "env_quck_test()"
   ]
  },
  {
   "cell_type": "code",
   "execution_count": 3,
   "metadata": {},
   "outputs": [
    {
     "name": "stdout",
     "output_type": "stream",
     "text": [
      "Initializing PyBoy with ROM: Tetris.gb\n",
      "Environment created with 1 vectorized environments.\n"
     ]
    }
   ],
   "source": [
    "env = create_env('Tetris.gb')"
   ]
  },
  {
   "cell_type": "code",
   "execution_count": 4,
   "metadata": {},
   "outputs": [
    {
     "name": "stdout",
     "output_type": "stream",
     "text": [
      "Training on: cpu\n",
      "Using cpu device\n",
      "PPO model initialized.\n"
     ]
    }
   ],
   "source": [
    "# Initialize the model. If you have a saved model, you can continue training it!\n",
    "model, custom_callback = train_model(env)"
   ]
  },
  {
   "cell_type": "code",
   "execution_count": 5,
   "metadata": {},
   "outputs": [
    {
     "name": "stdout",
     "output_type": "stream",
     "text": [
      "Starting model training...\n",
      "Logging to ./ppo_tetris_tensorboard/PPO_43\n"
     ]
    },
    {
     "data": {
      "application/vnd.jupyter.widget-view+json": {
       "model_id": "c908608d993845c08feb0afa364427f5",
       "version_major": 2,
       "version_minor": 0
      },
      "text/plain": [
       "Output()"
      ]
     },
     "metadata": {},
     "output_type": "display_data"
    },
    {
     "name": "stdout",
     "output_type": "stream",
     "text": [
      "-----------------------------\n",
      "| time/              |      |\n",
      "|    fps             | 289  |\n",
      "|    iterations      | 1    |\n",
      "|    time_elapsed    | 7    |\n",
      "|    total_timesteps | 2048 |\n",
      "-----------------------------\n"
     ]
    },
    {
     "name": "stdout",
     "output_type": "stream",
     "text": [
      "----------------------------------------\n",
      "| time/                   |            |\n",
      "|    fps                  | 272        |\n",
      "|    iterations           | 2          |\n",
      "|    time_elapsed         | 15         |\n",
      "|    total_timesteps      | 4096       |\n",
      "| train/                  |            |\n",
      "|    approx_kl            | 0.02345647 |\n",
      "|    clip_fraction        | 0.519      |\n",
      "|    clip_range           | 0.1        |\n",
      "|    entropy_loss         | -1.6       |\n",
      "|    explained_variance   | -0.000953  |\n",
      "|    learning_rate        | 0.01       |\n",
      "|    loss                 | -1.14      |\n",
      "|    n_updates            | 10         |\n",
      "|    policy_gradient_loss | -3.98e-05  |\n",
      "|    value_loss           | 5.3        |\n",
      "----------------------------------------\n"
     ]
    },
    {
     "name": "stdout",
     "output_type": "stream",
     "text": [
      "-----------------------------------------\n",
      "| time/                   |             |\n",
      "|    fps                  | 271         |\n",
      "|    iterations           | 3           |\n",
      "|    time_elapsed         | 22          |\n",
      "|    total_timesteps      | 6144        |\n",
      "| train/                  |             |\n",
      "|    approx_kl            | 0.027926419 |\n",
      "|    clip_fraction        | 0.676       |\n",
      "|    clip_range           | 0.1         |\n",
      "|    entropy_loss         | -1.59       |\n",
      "|    explained_variance   | 0.00579     |\n",
      "|    learning_rate        | 0.01        |\n",
      "|    loss                 | -1.21       |\n",
      "|    n_updates            | 20          |\n",
      "|    policy_gradient_loss | 0.0122      |\n",
      "|    value_loss           | 4.23        |\n",
      "-----------------------------------------\n"
     ]
    },
    {
     "name": "stdout",
     "output_type": "stream",
     "text": [
      "-----------------------------------------\n",
      "| time/                   |             |\n",
      "|    fps                  | 270         |\n",
      "|    iterations           | 4           |\n",
      "|    time_elapsed         | 30          |\n",
      "|    total_timesteps      | 8192        |\n",
      "| train/                  |             |\n",
      "|    approx_kl            | 0.036675066 |\n",
      "|    clip_fraction        | 0.679       |\n",
      "|    clip_range           | 0.1         |\n",
      "|    entropy_loss         | -1.58       |\n",
      "|    explained_variance   | -0.141      |\n",
      "|    learning_rate        | 0.01        |\n",
      "|    loss                 | -0.973      |\n",
      "|    n_updates            | 30          |\n",
      "|    policy_gradient_loss | 0.0212      |\n",
      "|    value_loss           | 2.85        |\n",
      "-----------------------------------------\n"
     ]
    },
    {
     "name": "stdout",
     "output_type": "stream",
     "text": [
      "-----------------------------------------\n",
      "| time/                   |             |\n",
      "|    fps                  | 270         |\n",
      "|    iterations           | 5           |\n",
      "|    time_elapsed         | 37          |\n",
      "|    total_timesteps      | 10240       |\n",
      "| train/                  |             |\n",
      "|    approx_kl            | 0.032249104 |\n",
      "|    clip_fraction        | 0.667       |\n",
      "|    clip_range           | 0.1         |\n",
      "|    entropy_loss         | -1.59       |\n",
      "|    explained_variance   | 0.531       |\n",
      "|    learning_rate        | 0.01        |\n",
      "|    loss                 | -0.883      |\n",
      "|    n_updates            | 40          |\n",
      "|    policy_gradient_loss | 0.00238     |\n",
      "|    value_loss           | 2.1         |\n",
      "-----------------------------------------\n"
     ]
    },
    {
     "name": "stdout",
     "output_type": "stream",
     "text": [
      "-----------------------------------------\n",
      "| time/                   |             |\n",
      "|    fps                  | 271         |\n",
      "|    iterations           | 6           |\n",
      "|    time_elapsed         | 45          |\n",
      "|    total_timesteps      | 12288       |\n",
      "| train/                  |             |\n",
      "|    approx_kl            | 0.035687394 |\n",
      "|    clip_fraction        | 0.692       |\n",
      "|    clip_range           | 0.1         |\n",
      "|    entropy_loss         | -1.58       |\n",
      "|    explained_variance   | 0.391       |\n",
      "|    learning_rate        | 0.01        |\n",
      "|    loss                 | -0.536      |\n",
      "|    n_updates            | 50          |\n",
      "|    policy_gradient_loss | 0.00644     |\n",
      "|    value_loss           | 3.66        |\n",
      "-----------------------------------------\n"
     ]
    },
    {
     "name": "stdout",
     "output_type": "stream",
     "text": [
      "-----------------------------------------\n",
      "| time/                   |             |\n",
      "|    fps                  | 271         |\n",
      "|    iterations           | 7           |\n",
      "|    time_elapsed         | 52          |\n",
      "|    total_timesteps      | 14336       |\n",
      "| train/                  |             |\n",
      "|    approx_kl            | 0.027006479 |\n",
      "|    clip_fraction        | 0.621       |\n",
      "|    clip_range           | 0.1         |\n",
      "|    entropy_loss         | -1.59       |\n",
      "|    explained_variance   | 0.147       |\n",
      "|    learning_rate        | 0.01        |\n",
      "|    loss                 | -0.411      |\n",
      "|    n_updates            | 60          |\n",
      "|    policy_gradient_loss | 0.0128      |\n",
      "|    value_loss           | 7.52        |\n",
      "-----------------------------------------\n"
     ]
    },
    {
     "name": "stdout",
     "output_type": "stream",
     "text": [
      "-----------------------------------------\n",
      "| time/                   |             |\n",
      "|    fps                  | 270         |\n",
      "|    iterations           | 8           |\n",
      "|    time_elapsed         | 60          |\n",
      "|    total_timesteps      | 16384       |\n",
      "| train/                  |             |\n",
      "|    approx_kl            | 0.031184195 |\n",
      "|    clip_fraction        | 0.687       |\n",
      "|    clip_range           | 0.1         |\n",
      "|    entropy_loss         | -1.58       |\n",
      "|    explained_variance   | 0.357       |\n",
      "|    learning_rate        | 0.01        |\n",
      "|    loss                 | -1.08       |\n",
      "|    n_updates            | 70          |\n",
      "|    policy_gradient_loss | 0.00803     |\n",
      "|    value_loss           | 3.1         |\n",
      "-----------------------------------------\n"
     ]
    },
    {
     "name": "stdout",
     "output_type": "stream",
     "text": [
      "-----------------------------------------\n",
      "| time/                   |             |\n",
      "|    fps                  | 265         |\n",
      "|    iterations           | 9           |\n",
      "|    time_elapsed         | 69          |\n",
      "|    total_timesteps      | 18432       |\n",
      "| train/                  |             |\n",
      "|    approx_kl            | 0.022520747 |\n",
      "|    clip_fraction        | 0.598       |\n",
      "|    clip_range           | 0.1         |\n",
      "|    entropy_loss         | -1.59       |\n",
      "|    explained_variance   | 0.034       |\n",
      "|    learning_rate        | 0.01        |\n",
      "|    loss                 | 0.088       |\n",
      "|    n_updates            | 80          |\n",
      "|    policy_gradient_loss | -0.00281    |\n",
      "|    value_loss           | 6.05        |\n",
      "-----------------------------------------\n"
     ]
    },
    {
     "name": "stdout",
     "output_type": "stream",
     "text": [
      "-----------------------------------------\n",
      "| time/                   |             |\n",
      "|    fps                  | 264         |\n",
      "|    iterations           | 10          |\n",
      "|    time_elapsed         | 77          |\n",
      "|    total_timesteps      | 20480       |\n",
      "| train/                  |             |\n",
      "|    approx_kl            | 0.034535237 |\n",
      "|    clip_fraction        | 0.657       |\n",
      "|    clip_range           | 0.1         |\n",
      "|    entropy_loss         | -1.59       |\n",
      "|    explained_variance   | 0.363       |\n",
      "|    learning_rate        | 0.01        |\n",
      "|    loss                 | 2.17        |\n",
      "|    n_updates            | 90          |\n",
      "|    policy_gradient_loss | 0.00366     |\n",
      "|    value_loss           | 4.2         |\n",
      "-----------------------------------------\n"
     ]
    },
    {
     "name": "stdout",
     "output_type": "stream",
     "text": [
      "----------------------------------------\n",
      "| time/                   |            |\n",
      "|    fps                  | 263        |\n",
      "|    iterations           | 11         |\n",
      "|    time_elapsed         | 85         |\n",
      "|    total_timesteps      | 22528      |\n",
      "| train/                  |            |\n",
      "|    approx_kl            | 0.04240694 |\n",
      "|    clip_fraction        | 0.621      |\n",
      "|    clip_range           | 0.1        |\n",
      "|    entropy_loss         | -1.59      |\n",
      "|    explained_variance   | 0.193      |\n",
      "|    learning_rate        | 0.01       |\n",
      "|    loss                 | 0.418      |\n",
      "|    n_updates            | 100        |\n",
      "|    policy_gradient_loss | -0.00431   |\n",
      "|    value_loss           | 6.08       |\n",
      "----------------------------------------\n"
     ]
    },
    {
     "name": "stdout",
     "output_type": "stream",
     "text": [
      "-----------------------------------------\n",
      "| time/                   |             |\n",
      "|    fps                  | 262         |\n",
      "|    iterations           | 12          |\n",
      "|    time_elapsed         | 93          |\n",
      "|    total_timesteps      | 24576       |\n",
      "| train/                  |             |\n",
      "|    approx_kl            | 0.027037753 |\n",
      "|    clip_fraction        | 0.663       |\n",
      "|    clip_range           | 0.1         |\n",
      "|    entropy_loss         | -1.59       |\n",
      "|    explained_variance   | 0.271       |\n",
      "|    learning_rate        | 0.01        |\n",
      "|    loss                 | -0.519      |\n",
      "|    n_updates            | 110         |\n",
      "|    policy_gradient_loss | 0.0071      |\n",
      "|    value_loss           | 5.17        |\n",
      "-----------------------------------------\n"
     ]
    },
    {
     "name": "stdout",
     "output_type": "stream",
     "text": [
      "-----------------------------------------\n",
      "| time/                   |             |\n",
      "|    fps                  | 261         |\n",
      "|    iterations           | 13          |\n",
      "|    time_elapsed         | 101         |\n",
      "|    total_timesteps      | 26624       |\n",
      "| train/                  |             |\n",
      "|    approx_kl            | 0.038741104 |\n",
      "|    clip_fraction        | 0.682       |\n",
      "|    clip_range           | 0.1         |\n",
      "|    entropy_loss         | -1.58       |\n",
      "|    explained_variance   | 0.364       |\n",
      "|    learning_rate        | 0.01        |\n",
      "|    loss                 | -0.603      |\n",
      "|    n_updates            | 120         |\n",
      "|    policy_gradient_loss | 0.0182      |\n",
      "|    value_loss           | 2.91        |\n",
      "-----------------------------------------\n"
     ]
    },
    {
     "name": "stdout",
     "output_type": "stream",
     "text": [
      "-----------------------------------------\n",
      "| time/                   |             |\n",
      "|    fps                  | 261         |\n",
      "|    iterations           | 14          |\n",
      "|    time_elapsed         | 109         |\n",
      "|    total_timesteps      | 28672       |\n",
      "| train/                  |             |\n",
      "|    approx_kl            | 0.050054394 |\n",
      "|    clip_fraction        | 0.749       |\n",
      "|    clip_range           | 0.1         |\n",
      "|    entropy_loss         | -1.58       |\n",
      "|    explained_variance   | -0.239      |\n",
      "|    learning_rate        | 0.01        |\n",
      "|    loss                 | 0.0676      |\n",
      "|    n_updates            | 130         |\n",
      "|    policy_gradient_loss | 0.00804     |\n",
      "|    value_loss           | 3.52        |\n",
      "-----------------------------------------\n"
     ]
    },
    {
     "name": "stdout",
     "output_type": "stream",
     "text": [
      "-----------------------------------------\n",
      "| time/                   |             |\n",
      "|    fps                  | 261         |\n",
      "|    iterations           | 15          |\n",
      "|    time_elapsed         | 117         |\n",
      "|    total_timesteps      | 30720       |\n",
      "| train/                  |             |\n",
      "|    approx_kl            | 0.032686006 |\n",
      "|    clip_fraction        | 0.684       |\n",
      "|    clip_range           | 0.1         |\n",
      "|    entropy_loss         | -1.58       |\n",
      "|    explained_variance   | 0.576       |\n",
      "|    learning_rate        | 0.01        |\n",
      "|    loss                 | -1.43       |\n",
      "|    n_updates            | 140         |\n",
      "|    policy_gradient_loss | 0.00441     |\n",
      "|    value_loss           | 1.14        |\n",
      "-----------------------------------------\n"
     ]
    },
    {
     "name": "stdout",
     "output_type": "stream",
     "text": [
      "-----------------------------------------\n",
      "| time/                   |             |\n",
      "|    fps                  | 262         |\n",
      "|    iterations           | 16          |\n",
      "|    time_elapsed         | 125         |\n",
      "|    total_timesteps      | 32768       |\n",
      "| train/                  |             |\n",
      "|    approx_kl            | 0.030398529 |\n",
      "|    clip_fraction        | 0.647       |\n",
      "|    clip_range           | 0.1         |\n",
      "|    entropy_loss         | -1.59       |\n",
      "|    explained_variance   | 0.72        |\n",
      "|    learning_rate        | 0.01        |\n",
      "|    loss                 | -1.11       |\n",
      "|    n_updates            | 150         |\n",
      "|    policy_gradient_loss | -0.00442    |\n",
      "|    value_loss           | 1.96        |\n",
      "-----------------------------------------\n"
     ]
    },
    {
     "name": "stdout",
     "output_type": "stream",
     "text": [
      "----------------------------------------\n",
      "| time/                   |            |\n",
      "|    fps                  | 262        |\n",
      "|    iterations           | 17         |\n",
      "|    time_elapsed         | 132        |\n",
      "|    total_timesteps      | 34816      |\n",
      "| train/                  |            |\n",
      "|    approx_kl            | 0.02830692 |\n",
      "|    clip_fraction        | 0.638      |\n",
      "|    clip_range           | 0.1        |\n",
      "|    entropy_loss         | -1.58      |\n",
      "|    explained_variance   | 0.327      |\n",
      "|    learning_rate        | 0.01       |\n",
      "|    loss                 | -1.26      |\n",
      "|    n_updates            | 160        |\n",
      "|    policy_gradient_loss | -0.00375   |\n",
      "|    value_loss           | 5.67       |\n",
      "----------------------------------------\n"
     ]
    },
    {
     "name": "stdout",
     "output_type": "stream",
     "text": [
      "-----------------------------------------\n",
      "| time/                   |             |\n",
      "|    fps                  | 262         |\n",
      "|    iterations           | 18          |\n",
      "|    time_elapsed         | 140         |\n",
      "|    total_timesteps      | 36864       |\n",
      "| train/                  |             |\n",
      "|    approx_kl            | 0.028408438 |\n",
      "|    clip_fraction        | 0.629       |\n",
      "|    clip_range           | 0.1         |\n",
      "|    entropy_loss         | -1.59       |\n",
      "|    explained_variance   | 0.35        |\n",
      "|    learning_rate        | 0.01        |\n",
      "|    loss                 | 1.34        |\n",
      "|    n_updates            | 170         |\n",
      "|    policy_gradient_loss | 0.00346     |\n",
      "|    value_loss           | 4.83        |\n",
      "-----------------------------------------\n"
     ]
    },
    {
     "name": "stdout",
     "output_type": "stream",
     "text": [
      "-----------------------------------------\n",
      "| time/                   |             |\n",
      "|    fps                  | 261         |\n",
      "|    iterations           | 19          |\n",
      "|    time_elapsed         | 148         |\n",
      "|    total_timesteps      | 38912       |\n",
      "| train/                  |             |\n",
      "|    approx_kl            | 0.018080356 |\n",
      "|    clip_fraction        | 0.622       |\n",
      "|    clip_range           | 0.1         |\n",
      "|    entropy_loss         | -1.59       |\n",
      "|    explained_variance   | 0.378       |\n",
      "|    learning_rate        | 0.01        |\n",
      "|    loss                 | 2.69        |\n",
      "|    n_updates            | 180         |\n",
      "|    policy_gradient_loss | 0.00762     |\n",
      "|    value_loss           | 8.32        |\n",
      "-----------------------------------------\n"
     ]
    },
    {
     "name": "stdout",
     "output_type": "stream",
     "text": [
      "-----------------------------------------\n",
      "| time/                   |             |\n",
      "|    fps                  | 262         |\n",
      "|    iterations           | 20          |\n",
      "|    time_elapsed         | 156         |\n",
      "|    total_timesteps      | 40960       |\n",
      "| train/                  |             |\n",
      "|    approx_kl            | 0.018758804 |\n",
      "|    clip_fraction        | 0.572       |\n",
      "|    clip_range           | 0.1         |\n",
      "|    entropy_loss         | -1.59       |\n",
      "|    explained_variance   | 0.0789      |\n",
      "|    learning_rate        | 0.01        |\n",
      "|    loss                 | -1.01       |\n",
      "|    n_updates            | 190         |\n",
      "|    policy_gradient_loss | -0.00738    |\n",
      "|    value_loss           | 8.64        |\n",
      "-----------------------------------------\n"
     ]
    },
    {
     "name": "stdout",
     "output_type": "stream",
     "text": [
      "-----------------------------------------\n",
      "| time/                   |             |\n",
      "|    fps                  | 262         |\n",
      "|    iterations           | 21          |\n",
      "|    time_elapsed         | 164         |\n",
      "|    total_timesteps      | 43008       |\n",
      "| train/                  |             |\n",
      "|    approx_kl            | 0.017538186 |\n",
      "|    clip_fraction        | 0.557       |\n",
      "|    clip_range           | 0.1         |\n",
      "|    entropy_loss         | -1.59       |\n",
      "|    explained_variance   | 0.0679      |\n",
      "|    learning_rate        | 0.01        |\n",
      "|    loss                 | 2.29        |\n",
      "|    n_updates            | 200         |\n",
      "|    policy_gradient_loss | -0.00899    |\n",
      "|    value_loss           | 9.23        |\n",
      "-----------------------------------------\n"
     ]
    },
    {
     "name": "stdout",
     "output_type": "stream",
     "text": [
      "-----------------------------------------\n",
      "| time/                   |             |\n",
      "|    fps                  | 262         |\n",
      "|    iterations           | 22          |\n",
      "|    time_elapsed         | 171         |\n",
      "|    total_timesteps      | 45056       |\n",
      "| train/                  |             |\n",
      "|    approx_kl            | 0.025192462 |\n",
      "|    clip_fraction        | 0.666       |\n",
      "|    clip_range           | 0.1         |\n",
      "|    entropy_loss         | -1.58       |\n",
      "|    explained_variance   | 0.0116      |\n",
      "|    learning_rate        | 0.01        |\n",
      "|    loss                 | 2.63        |\n",
      "|    n_updates            | 210         |\n",
      "|    policy_gradient_loss | 0.00763     |\n",
      "|    value_loss           | 4.65        |\n",
      "-----------------------------------------\n"
     ]
    },
    {
     "name": "stdout",
     "output_type": "stream",
     "text": [
      "-----------------------------------------\n",
      "| time/                   |             |\n",
      "|    fps                  | 262         |\n",
      "|    iterations           | 23          |\n",
      "|    time_elapsed         | 179         |\n",
      "|    total_timesteps      | 47104       |\n",
      "| train/                  |             |\n",
      "|    approx_kl            | 0.024659729 |\n",
      "|    clip_fraction        | 0.619       |\n",
      "|    clip_range           | 0.1         |\n",
      "|    entropy_loss         | -1.59       |\n",
      "|    explained_variance   | 0.323       |\n",
      "|    learning_rate        | 0.01        |\n",
      "|    loss                 | 0.594       |\n",
      "|    n_updates            | 220         |\n",
      "|    policy_gradient_loss | -0.00199    |\n",
      "|    value_loss           | 8.49        |\n",
      "-----------------------------------------\n"
     ]
    },
    {
     "name": "stdout",
     "output_type": "stream",
     "text": [
      "-----------------------------------------\n",
      "| time/                   |             |\n",
      "|    fps                  | 262         |\n",
      "|    iterations           | 24          |\n",
      "|    time_elapsed         | 187         |\n",
      "|    total_timesteps      | 49152       |\n",
      "| train/                  |             |\n",
      "|    approx_kl            | 0.018344961 |\n",
      "|    clip_fraction        | 0.613       |\n",
      "|    clip_range           | 0.1         |\n",
      "|    entropy_loss         | -1.59       |\n",
      "|    explained_variance   | -0.0287     |\n",
      "|    learning_rate        | 0.01        |\n",
      "|    loss                 | 0.196       |\n",
      "|    n_updates            | 230         |\n",
      "|    policy_gradient_loss | -0.000269   |\n",
      "|    value_loss           | 5.34        |\n",
      "-----------------------------------------\n"
     ]
    },
    {
     "name": "stdout",
     "output_type": "stream",
     "text": [
      "-----------------------------------------\n",
      "| time/                   |             |\n",
      "|    fps                  | 261         |\n",
      "|    iterations           | 25          |\n",
      "|    time_elapsed         | 195         |\n",
      "|    total_timesteps      | 51200       |\n",
      "| train/                  |             |\n",
      "|    approx_kl            | 0.028460886 |\n",
      "|    clip_fraction        | 0.57        |\n",
      "|    clip_range           | 0.1         |\n",
      "|    entropy_loss         | -1.59       |\n",
      "|    explained_variance   | 0.0408      |\n",
      "|    learning_rate        | 0.01        |\n",
      "|    loss                 | -0.548      |\n",
      "|    n_updates            | 240         |\n",
      "|    policy_gradient_loss | -0.00577    |\n",
      "|    value_loss           | 6.63        |\n",
      "-----------------------------------------\n"
     ]
    },
    {
     "name": "stdout",
     "output_type": "stream",
     "text": [
      "-----------------------------------------\n",
      "| time/                   |             |\n",
      "|    fps                  | 261         |\n",
      "|    iterations           | 26          |\n",
      "|    time_elapsed         | 203         |\n",
      "|    total_timesteps      | 53248       |\n",
      "| train/                  |             |\n",
      "|    approx_kl            | 0.026762065 |\n",
      "|    clip_fraction        | 0.585       |\n",
      "|    clip_range           | 0.1         |\n",
      "|    entropy_loss         | -1.59       |\n",
      "|    explained_variance   | 0.414       |\n",
      "|    learning_rate        | 0.01        |\n",
      "|    loss                 | -0.0726     |\n",
      "|    n_updates            | 250         |\n",
      "|    policy_gradient_loss | -0.0105     |\n",
      "|    value_loss           | 5.2         |\n",
      "-----------------------------------------\n"
     ]
    },
    {
     "name": "stdout",
     "output_type": "stream",
     "text": [
      "----------------------------------------\n",
      "| time/                   |            |\n",
      "|    fps                  | 261        |\n",
      "|    iterations           | 27         |\n",
      "|    time_elapsed         | 211        |\n",
      "|    total_timesteps      | 55296      |\n",
      "| train/                  |            |\n",
      "|    approx_kl            | 0.03792042 |\n",
      "|    clip_fraction        | 0.662      |\n",
      "|    clip_range           | 0.1        |\n",
      "|    entropy_loss         | -1.58      |\n",
      "|    explained_variance   | 0.387      |\n",
      "|    learning_rate        | 0.01       |\n",
      "|    loss                 | -0.664     |\n",
      "|    n_updates            | 260        |\n",
      "|    policy_gradient_loss | 0.00893    |\n",
      "|    value_loss           | 2.44       |\n",
      "----------------------------------------\n"
     ]
    },
    {
     "name": "stdout",
     "output_type": "stream",
     "text": [
      "-----------------------------------------\n",
      "| time/                   |             |\n",
      "|    fps                  | 261         |\n",
      "|    iterations           | 28          |\n",
      "|    time_elapsed         | 219         |\n",
      "|    total_timesteps      | 57344       |\n",
      "| train/                  |             |\n",
      "|    approx_kl            | 0.023531917 |\n",
      "|    clip_fraction        | 0.634       |\n",
      "|    clip_range           | 0.1         |\n",
      "|    entropy_loss         | -1.58       |\n",
      "|    explained_variance   | 0.322       |\n",
      "|    learning_rate        | 0.01        |\n",
      "|    loss                 | 2.88        |\n",
      "|    n_updates            | 270         |\n",
      "|    policy_gradient_loss | 0.00785     |\n",
      "|    value_loss           | 10.8        |\n",
      "-----------------------------------------\n"
     ]
    },
    {
     "name": "stdout",
     "output_type": "stream",
     "text": [
      "-----------------------------------------\n",
      "| time/                   |             |\n",
      "|    fps                  | 261         |\n",
      "|    iterations           | 29          |\n",
      "|    time_elapsed         | 227         |\n",
      "|    total_timesteps      | 59392       |\n",
      "| train/                  |             |\n",
      "|    approx_kl            | 0.035667043 |\n",
      "|    clip_fraction        | 0.664       |\n",
      "|    clip_range           | 0.1         |\n",
      "|    entropy_loss         | -1.58       |\n",
      "|    explained_variance   | 0.369       |\n",
      "|    learning_rate        | 0.01        |\n",
      "|    loss                 | -1.29       |\n",
      "|    n_updates            | 280         |\n",
      "|    policy_gradient_loss | 0.0122      |\n",
      "|    value_loss           | 2.8         |\n",
      "-----------------------------------------\n"
     ]
    },
    {
     "name": "stdout",
     "output_type": "stream",
     "text": [
      "-----------------------------------------\n",
      "| time/                   |             |\n",
      "|    fps                  | 261         |\n",
      "|    iterations           | 30          |\n",
      "|    time_elapsed         | 235         |\n",
      "|    total_timesteps      | 61440       |\n",
      "| train/                  |             |\n",
      "|    approx_kl            | 0.045256823 |\n",
      "|    clip_fraction        | 0.698       |\n",
      "|    clip_range           | 0.1         |\n",
      "|    entropy_loss         | -1.58       |\n",
      "|    explained_variance   | 0.322       |\n",
      "|    learning_rate        | 0.01        |\n",
      "|    loss                 | 1.02        |\n",
      "|    n_updates            | 290         |\n",
      "|    policy_gradient_loss | 0.00453     |\n",
      "|    value_loss           | 5.11        |\n",
      "-----------------------------------------\n"
     ]
    },
    {
     "name": "stdout",
     "output_type": "stream",
     "text": [
      "-----------------------------------------\n",
      "| time/                   |             |\n",
      "|    fps                  | 261         |\n",
      "|    iterations           | 31          |\n",
      "|    time_elapsed         | 242         |\n",
      "|    total_timesteps      | 63488       |\n",
      "| train/                  |             |\n",
      "|    approx_kl            | 0.022082338 |\n",
      "|    clip_fraction        | 0.622       |\n",
      "|    clip_range           | 0.1         |\n",
      "|    entropy_loss         | -1.59       |\n",
      "|    explained_variance   | 0.346       |\n",
      "|    learning_rate        | 0.01        |\n",
      "|    loss                 | 2.85        |\n",
      "|    n_updates            | 300         |\n",
      "|    policy_gradient_loss | -0.00091    |\n",
      "|    value_loss           | 8.02        |\n",
      "-----------------------------------------\n"
     ]
    },
    {
     "name": "stdout",
     "output_type": "stream",
     "text": [
      "-----------------------------------------\n",
      "| time/                   |             |\n",
      "|    fps                  | 261         |\n",
      "|    iterations           | 32          |\n",
      "|    time_elapsed         | 250         |\n",
      "|    total_timesteps      | 65536       |\n",
      "| train/                  |             |\n",
      "|    approx_kl            | 0.020239145 |\n",
      "|    clip_fraction        | 0.591       |\n",
      "|    clip_range           | 0.1         |\n",
      "|    entropy_loss         | -1.59       |\n",
      "|    explained_variance   | 0.196       |\n",
      "|    learning_rate        | 0.01        |\n",
      "|    loss                 | 3.74        |\n",
      "|    n_updates            | 310         |\n",
      "|    policy_gradient_loss | 0.00185     |\n",
      "|    value_loss           | 14.2        |\n",
      "-----------------------------------------\n"
     ]
    },
    {
     "name": "stdout",
     "output_type": "stream",
     "text": [
      "----------------------------------------\n",
      "| time/                   |            |\n",
      "|    fps                  | 261        |\n",
      "|    iterations           | 33         |\n",
      "|    time_elapsed         | 258        |\n",
      "|    total_timesteps      | 67584      |\n",
      "| train/                  |            |\n",
      "|    approx_kl            | 0.04485543 |\n",
      "|    clip_fraction        | 0.656      |\n",
      "|    clip_range           | 0.1        |\n",
      "|    entropy_loss         | -1.58      |\n",
      "|    explained_variance   | 0.352      |\n",
      "|    learning_rate        | 0.01       |\n",
      "|    loss                 | 2.09       |\n",
      "|    n_updates            | 320        |\n",
      "|    policy_gradient_loss | 0.00369    |\n",
      "|    value_loss           | 4.82       |\n",
      "----------------------------------------\n"
     ]
    },
    {
     "name": "stdout",
     "output_type": "stream",
     "text": [
      "-----------------------------------------\n",
      "| time/                   |             |\n",
      "|    fps                  | 261         |\n",
      "|    iterations           | 34          |\n",
      "|    time_elapsed         | 265         |\n",
      "|    total_timesteps      | 69632       |\n",
      "| train/                  |             |\n",
      "|    approx_kl            | 0.031003006 |\n",
      "|    clip_fraction        | 0.656       |\n",
      "|    clip_range           | 0.1         |\n",
      "|    entropy_loss         | -1.59       |\n",
      "|    explained_variance   | 0.324       |\n",
      "|    learning_rate        | 0.01        |\n",
      "|    loss                 | 1.36        |\n",
      "|    n_updates            | 330         |\n",
      "|    policy_gradient_loss | 0.00166     |\n",
      "|    value_loss           | 9.85        |\n",
      "-----------------------------------------\n"
     ]
    },
    {
     "name": "stdout",
     "output_type": "stream",
     "text": [
      "-----------------------------------------\n",
      "| time/                   |             |\n",
      "|    fps                  | 262         |\n",
      "|    iterations           | 35          |\n",
      "|    time_elapsed         | 273         |\n",
      "|    total_timesteps      | 71680       |\n",
      "| train/                  |             |\n",
      "|    approx_kl            | 0.043159842 |\n",
      "|    clip_fraction        | 0.697       |\n",
      "|    clip_range           | 0.1         |\n",
      "|    entropy_loss         | -1.58       |\n",
      "|    explained_variance   | 0.376       |\n",
      "|    learning_rate        | 0.01        |\n",
      "|    loss                 | 4.44        |\n",
      "|    n_updates            | 340         |\n",
      "|    policy_gradient_loss | 0.0136      |\n",
      "|    value_loss           | 8.59        |\n",
      "-----------------------------------------\n"
     ]
    },
    {
     "name": "stdout",
     "output_type": "stream",
     "text": [
      "-----------------------------------------\n",
      "| time/                   |             |\n",
      "|    fps                  | 262         |\n",
      "|    iterations           | 36          |\n",
      "|    time_elapsed         | 281         |\n",
      "|    total_timesteps      | 73728       |\n",
      "| train/                  |             |\n",
      "|    approx_kl            | 0.035098046 |\n",
      "|    clip_fraction        | 0.683       |\n",
      "|    clip_range           | 0.1         |\n",
      "|    entropy_loss         | -1.58       |\n",
      "|    explained_variance   | 0.406       |\n",
      "|    learning_rate        | 0.01        |\n",
      "|    loss                 | 5.39        |\n",
      "|    n_updates            | 350         |\n",
      "|    policy_gradient_loss | 0.0177      |\n",
      "|    value_loss           | 7.76        |\n",
      "-----------------------------------------\n"
     ]
    },
    {
     "name": "stdout",
     "output_type": "stream",
     "text": [
      "-----------------------------------------\n",
      "| time/                   |             |\n",
      "|    fps                  | 262         |\n",
      "|    iterations           | 37          |\n",
      "|    time_elapsed         | 288         |\n",
      "|    total_timesteps      | 75776       |\n",
      "| train/                  |             |\n",
      "|    approx_kl            | 0.037865527 |\n",
      "|    clip_fraction        | 0.615       |\n",
      "|    clip_range           | 0.1         |\n",
      "|    entropy_loss         | -1.58       |\n",
      "|    explained_variance   | 0.498       |\n",
      "|    learning_rate        | 0.01        |\n",
      "|    loss                 | 2.36        |\n",
      "|    n_updates            | 360         |\n",
      "|    policy_gradient_loss | 0.0026      |\n",
      "|    value_loss           | 9.32        |\n",
      "-----------------------------------------\n"
     ]
    },
    {
     "name": "stdout",
     "output_type": "stream",
     "text": [
      "-----------------------------------------\n",
      "| time/                   |             |\n",
      "|    fps                  | 262         |\n",
      "|    iterations           | 38          |\n",
      "|    time_elapsed         | 296         |\n",
      "|    total_timesteps      | 77824       |\n",
      "| train/                  |             |\n",
      "|    approx_kl            | 0.042118907 |\n",
      "|    clip_fraction        | 0.696       |\n",
      "|    clip_range           | 0.1         |\n",
      "|    entropy_loss         | -1.58       |\n",
      "|    explained_variance   | 0.49        |\n",
      "|    learning_rate        | 0.01        |\n",
      "|    loss                 | 1.55        |\n",
      "|    n_updates            | 370         |\n",
      "|    policy_gradient_loss | 0.005       |\n",
      "|    value_loss           | 6.26        |\n",
      "-----------------------------------------\n"
     ]
    },
    {
     "name": "stdout",
     "output_type": "stream",
     "text": [
      "-----------------------------------------\n",
      "| time/                   |             |\n",
      "|    fps                  | 262         |\n",
      "|    iterations           | 39          |\n",
      "|    time_elapsed         | 304         |\n",
      "|    total_timesteps      | 79872       |\n",
      "| train/                  |             |\n",
      "|    approx_kl            | 0.030977603 |\n",
      "|    clip_fraction        | 0.641       |\n",
      "|    clip_range           | 0.1         |\n",
      "|    entropy_loss         | -1.59       |\n",
      "|    explained_variance   | 0.207       |\n",
      "|    learning_rate        | 0.01        |\n",
      "|    loss                 | 2.33        |\n",
      "|    n_updates            | 380         |\n",
      "|    policy_gradient_loss | 0.00386     |\n",
      "|    value_loss           | 8.47        |\n",
      "-----------------------------------------\n"
     ]
    },
    {
     "name": "stdout",
     "output_type": "stream",
     "text": [
      "-----------------------------------------\n",
      "| time/                   |             |\n",
      "|    fps                  | 262         |\n",
      "|    iterations           | 40          |\n",
      "|    time_elapsed         | 311         |\n",
      "|    total_timesteps      | 81920       |\n",
      "| train/                  |             |\n",
      "|    approx_kl            | 0.030397706 |\n",
      "|    clip_fraction        | 0.625       |\n",
      "|    clip_range           | 0.1         |\n",
      "|    entropy_loss         | -1.58       |\n",
      "|    explained_variance   | 0.205       |\n",
      "|    learning_rate        | 0.01        |\n",
      "|    loss                 | 3.28        |\n",
      "|    n_updates            | 390         |\n",
      "|    policy_gradient_loss | 0.00588     |\n",
      "|    value_loss           | 11.6        |\n",
      "-----------------------------------------\n"
     ]
    },
    {
     "name": "stdout",
     "output_type": "stream",
     "text": [
      "-----------------------------------------\n",
      "| time/                   |             |\n",
      "|    fps                  | 262         |\n",
      "|    iterations           | 41          |\n",
      "|    time_elapsed         | 319         |\n",
      "|    total_timesteps      | 83968       |\n",
      "| train/                  |             |\n",
      "|    approx_kl            | 0.017874833 |\n",
      "|    clip_fraction        | 0.577       |\n",
      "|    clip_range           | 0.1         |\n",
      "|    entropy_loss         | -1.59       |\n",
      "|    explained_variance   | 0.0819      |\n",
      "|    learning_rate        | 0.01        |\n",
      "|    loss                 | 0.588       |\n",
      "|    n_updates            | 400         |\n",
      "|    policy_gradient_loss | 0.0045      |\n",
      "|    value_loss           | 18.2        |\n",
      "-----------------------------------------\n"
     ]
    },
    {
     "name": "stdout",
     "output_type": "stream",
     "text": [
      "-----------------------------------------\n",
      "| time/                   |             |\n",
      "|    fps                  | 262         |\n",
      "|    iterations           | 42          |\n",
      "|    time_elapsed         | 327         |\n",
      "|    total_timesteps      | 86016       |\n",
      "| train/                  |             |\n",
      "|    approx_kl            | 0.026409999 |\n",
      "|    clip_fraction        | 0.617       |\n",
      "|    clip_range           | 0.1         |\n",
      "|    entropy_loss         | -1.59       |\n",
      "|    explained_variance   | 0.201       |\n",
      "|    learning_rate        | 0.01        |\n",
      "|    loss                 | -1.3        |\n",
      "|    n_updates            | 410         |\n",
      "|    policy_gradient_loss | 0.00486     |\n",
      "|    value_loss           | 6.88        |\n",
      "-----------------------------------------\n"
     ]
    },
    {
     "name": "stdout",
     "output_type": "stream",
     "text": [
      "-----------------------------------------\n",
      "| time/                   |             |\n",
      "|    fps                  | 262         |\n",
      "|    iterations           | 43          |\n",
      "|    time_elapsed         | 335         |\n",
      "|    total_timesteps      | 88064       |\n",
      "| train/                  |             |\n",
      "|    approx_kl            | 0.028321616 |\n",
      "|    clip_fraction        | 0.644       |\n",
      "|    clip_range           | 0.1         |\n",
      "|    entropy_loss         | -1.59       |\n",
      "|    explained_variance   | 0.19        |\n",
      "|    learning_rate        | 0.01        |\n",
      "|    loss                 | 4.81        |\n",
      "|    n_updates            | 420         |\n",
      "|    policy_gradient_loss | 0.00347     |\n",
      "|    value_loss           | 11.2        |\n",
      "-----------------------------------------\n"
     ]
    },
    {
     "name": "stdout",
     "output_type": "stream",
     "text": [
      "-----------------------------------------\n",
      "| time/                   |             |\n",
      "|    fps                  | 262         |\n",
      "|    iterations           | 44          |\n",
      "|    time_elapsed         | 342         |\n",
      "|    total_timesteps      | 90112       |\n",
      "| train/                  |             |\n",
      "|    approx_kl            | 0.025510903 |\n",
      "|    clip_fraction        | 0.628       |\n",
      "|    clip_range           | 0.1         |\n",
      "|    entropy_loss         | -1.58       |\n",
      "|    explained_variance   | 0.429       |\n",
      "|    learning_rate        | 0.01        |\n",
      "|    loss                 | 3.75        |\n",
      "|    n_updates            | 430         |\n",
      "|    policy_gradient_loss | 0.00828     |\n",
      "|    value_loss           | 6.04        |\n",
      "-----------------------------------------\n"
     ]
    },
    {
     "name": "stdout",
     "output_type": "stream",
     "text": [
      "----------------------------------------\n",
      "| time/                   |            |\n",
      "|    fps                  | 262        |\n",
      "|    iterations           | 45         |\n",
      "|    time_elapsed         | 350        |\n",
      "|    total_timesteps      | 92160      |\n",
      "| train/                  |            |\n",
      "|    approx_kl            | 0.03463196 |\n",
      "|    clip_fraction        | 0.653      |\n",
      "|    clip_range           | 0.1        |\n",
      "|    entropy_loss         | -1.58      |\n",
      "|    explained_variance   | 0.467      |\n",
      "|    learning_rate        | 0.01       |\n",
      "|    loss                 | -0.257     |\n",
      "|    n_updates            | 440        |\n",
      "|    policy_gradient_loss | 0.00389    |\n",
      "|    value_loss           | 8.5        |\n",
      "----------------------------------------\n"
     ]
    },
    {
     "name": "stdout",
     "output_type": "stream",
     "text": [
      "-----------------------------------------\n",
      "| time/                   |             |\n",
      "|    fps                  | 262         |\n",
      "|    iterations           | 46          |\n",
      "|    time_elapsed         | 358         |\n",
      "|    total_timesteps      | 94208       |\n",
      "| train/                  |             |\n",
      "|    approx_kl            | 0.039819833 |\n",
      "|    clip_fraction        | 0.67        |\n",
      "|    clip_range           | 0.1         |\n",
      "|    entropy_loss         | -1.58       |\n",
      "|    explained_variance   | 0.534       |\n",
      "|    learning_rate        | 0.01        |\n",
      "|    loss                 | -1.29       |\n",
      "|    n_updates            | 450         |\n",
      "|    policy_gradient_loss | 0.00361     |\n",
      "|    value_loss           | 5.51        |\n",
      "-----------------------------------------\n"
     ]
    },
    {
     "name": "stdout",
     "output_type": "stream",
     "text": [
      "----------------------------------------\n",
      "| time/                   |            |\n",
      "|    fps                  | 263        |\n",
      "|    iterations           | 47         |\n",
      "|    time_elapsed         | 365        |\n",
      "|    total_timesteps      | 96256      |\n",
      "| train/                  |            |\n",
      "|    approx_kl            | 0.03369567 |\n",
      "|    clip_fraction        | 0.707      |\n",
      "|    clip_range           | 0.1        |\n",
      "|    entropy_loss         | -1.58      |\n",
      "|    explained_variance   | 0.187      |\n",
      "|    learning_rate        | 0.01       |\n",
      "|    loss                 | 3.06       |\n",
      "|    n_updates            | 460        |\n",
      "|    policy_gradient_loss | 0.0113     |\n",
      "|    value_loss           | 10.3       |\n",
      "----------------------------------------\n"
     ]
    },
    {
     "name": "stdout",
     "output_type": "stream",
     "text": [
      "----------------------------------------\n",
      "| time/                   |            |\n",
      "|    fps                  | 262        |\n",
      "|    iterations           | 48         |\n",
      "|    time_elapsed         | 373        |\n",
      "|    total_timesteps      | 98304      |\n",
      "| train/                  |            |\n",
      "|    approx_kl            | 0.03935893 |\n",
      "|    clip_fraction        | 0.665      |\n",
      "|    clip_range           | 0.1        |\n",
      "|    entropy_loss         | -1.58      |\n",
      "|    explained_variance   | 0.444      |\n",
      "|    learning_rate        | 0.01       |\n",
      "|    loss                 | 0.171      |\n",
      "|    n_updates            | 470        |\n",
      "|    policy_gradient_loss | 0.0105     |\n",
      "|    value_loss           | 10.4       |\n",
      "----------------------------------------\n"
     ]
    },
    {
     "data": {
      "text/html": [
       "<pre style=\"white-space:pre;overflow-x:auto;line-height:normal;font-family:Menlo,'DejaVu Sans Mono',consolas,'Courier New',monospace\">Step: 100000, Elapsed Time: 380.41 seconds\n",
       "</pre>\n"
      ],
      "text/plain": [
       "Step: 100000, Elapsed Time: 380.41 seconds\n"
      ]
     },
     "metadata": {},
     "output_type": "display_data"
    },
    {
     "name": "stdout",
     "output_type": "stream",
     "text": [
      "---------------------------------------\n",
      "| time/                   |           |\n",
      "|    fps                  | 262       |\n",
      "|    iterations           | 49        |\n",
      "|    time_elapsed         | 381       |\n",
      "|    total_timesteps      | 100352    |\n",
      "| train/                  |           |\n",
      "|    approx_kl            | 0.0455539 |\n",
      "|    clip_fraction        | 0.707     |\n",
      "|    clip_range           | 0.1       |\n",
      "|    entropy_loss         | -1.58     |\n",
      "|    explained_variance   | 0.419     |\n",
      "|    learning_rate        | 0.01      |\n",
      "|    loss                 | 6.25      |\n",
      "|    n_updates            | 480       |\n",
      "|    policy_gradient_loss | 0.0126    |\n",
      "|    value_loss           | 5.81      |\n",
      "---------------------------------------\n"
     ]
    },
    {
     "data": {
      "text/html": [
       "<pre style=\"white-space:pre;overflow-x:auto;line-height:normal;font-family:Menlo,'DejaVu Sans Mono',consolas,'Courier New',monospace\"></pre>\n"
      ],
      "text/plain": []
     },
     "metadata": {},
     "output_type": "display_data"
    },
    {
     "data": {
      "text/html": [
       "<pre style=\"white-space:pre;overflow-x:auto;line-height:normal;font-family:Menlo,'DejaVu Sans Mono',consolas,'Courier New',monospace\">\n",
       "</pre>\n"
      ],
      "text/plain": [
       "\n"
      ]
     },
     "metadata": {},
     "output_type": "display_data"
    },
    {
     "name": "stdout",
     "output_type": "stream",
     "text": [
      "Model training completed.\n"
     ]
    }
   ],
   "source": [
    "model = model_learn(model, custom_callback, timesteps=1000000)"
   ]
  },
  {
   "cell_type": "markdown",
   "metadata": {},
   "source": []
  },
  {
   "cell_type": "code",
   "execution_count": 6,
   "metadata": {},
   "outputs": [],
   "source": [
    "model.save('ppo_tetris_model_taught')"
   ]
  },
  {
   "cell_type": "code",
   "execution_count": 7,
   "metadata": {},
   "outputs": [],
   "source": [
    "# Load the trained model\n",
    "model = PPO.load('ppo_tetris_model_taught')"
   ]
  },
  {
   "cell_type": "code",
   "execution_count": 10,
   "metadata": {},
   "outputs": [
    {
     "name": "stdout",
     "output_type": "stream",
     "text": [
      "Game play GIF saved as model_play.gif\n"
     ]
    }
   ],
   "source": [
    "\n",
    "# Create an environment instance\n",
    "env = TetrisEnv('Tetris.gb')\n",
    "\n",
    "# Play the game and record the frames\n",
    "play_and_record(model, env, num_frames=1000)"
   ]
  },
  {
   "cell_type": "code",
   "execution_count": 11,
   "metadata": {},
   "outputs": [
    {
     "name": "stdout",
     "output_type": "stream",
     "text": [
      "Let's see how far we get!\n"
     ]
    },
    {
     "data": {
      "image/gif": "[encoded data removed]",
      "text/plain": [
       "<IPython.core.display.Image object>"
      ]
     },
     "metadata": {},
     "output_type": "display_data"
    }
   ],
   "source": [
    "# Display the first attempt GIF\n",
    "print(\"Let's see how far we get!\")\n",
    "display(Image(filename='model_play.gif'))\n"
   ]
  },
  {
   "cell_type": "code",
   "execution_count": null,
   "metadata": {},
   "outputs": [],
   "source": []
  },
  {
   "cell_type": "code",
   "execution_count": null,
   "metadata": {},
   "outputs": [],
   "source": []
  }
 ],
 "metadata": {
  "kernelspec": {
   "display_name": "Python 3",
   "language": "python",
   "name": "python3"
  },
  "language_info": {
   "codemirror_mode": {
    "name": "ipython",
    "version": 3
   },
   "file_extension": ".py",
   "mimetype": "text/x-python",
   "name": "python",
   "nbconvert_exporter": "python",
   "pygments_lexer": "ipython3",
   "version": "3.12.0"
  }
 },
 "nbformat": 4,
 "nbformat_minor": 2
}
